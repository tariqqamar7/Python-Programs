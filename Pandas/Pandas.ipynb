{
 "cells": [
  {
   "cell_type": "markdown",
   "metadata": {},
   "source": [
    "# Series Object"
   ]
  },
  {
   "cell_type": "code",
   "execution_count": 1,
   "metadata": {},
   "outputs": [],
   "source": [
    "import pandas as pd"
   ]
  },
  {
   "cell_type": "code",
   "execution_count": 2,
   "metadata": {},
   "outputs": [
    {
     "data": {
      "text/plain": [
       "0    4\n",
       "1    5\n",
       "2    8\n",
       "3    3\n",
       "4    1\n",
       "dtype: int64"
      ]
     },
     "execution_count": 2,
     "metadata": {},
     "output_type": "execute_result"
    }
   ],
   "source": [
    "data = [4,5,8,3,1]\n",
    "pd.Series(data)"
   ]
  },
  {
   "cell_type": "markdown",
   "metadata": {},
   "source": [
    "## Pandas Series has two things in one object\n",
    "- 1. Values\n",
    "- 2. Index"
   ]
  },
  {
   "cell_type": "code",
   "execution_count": 6,
   "metadata": {},
   "outputs": [],
   "source": [
    "data = [100,200,300,400]\n",
    "data_set = pd.Series(data)"
   ]
  },
  {
   "cell_type": "code",
   "execution_count": 7,
   "metadata": {},
   "outputs": [
    {
     "name": "stdout",
     "output_type": "stream",
     "text": [
      "[100 200 300 400]\n"
     ]
    }
   ],
   "source": [
    "print(data_set.values)"
   ]
  },
  {
   "cell_type": "code",
   "execution_count": 9,
   "metadata": {},
   "outputs": [
    {
     "name": "stdout",
     "output_type": "stream",
     "text": [
      "RangeIndex(start=0, stop=4, step=1)\n"
     ]
    }
   ],
   "source": [
    "print(data_set.index)"
   ]
  },
  {
   "cell_type": "code",
   "execution_count": 18,
   "metadata": {},
   "outputs": [],
   "source": [
    "data = [100,200,300,400]\n",
    "data_set = pd.Series(data,index=['a','b','c','d'])"
   ]
  },
  {
   "cell_type": "code",
   "execution_count": 20,
   "metadata": {},
   "outputs": [
    {
     "name": "stdout",
     "output_type": "stream",
     "text": [
      "[100 200 300 400]\n",
      "Index(['a', 'b', 'c', 'd'], dtype='object')\n"
     ]
    }
   ],
   "source": [
    "print(data_set.values)\n",
    "print(data_set.index)"
   ]
  },
  {
   "cell_type": "code",
   "execution_count": 21,
   "metadata": {},
   "outputs": [
    {
     "name": "stdout",
     "output_type": "stream",
     "text": [
      "a    100\n",
      "b    200\n",
      "c    300\n",
      "d    400\n",
      "dtype: int64\n"
     ]
    }
   ],
   "source": [
    "print(data_set)"
   ]
  },
  {
   "cell_type": "code",
   "execution_count": 31,
   "metadata": {},
   "outputs": [
    {
     "data": {
      "text/plain": [
       "Mon    100\n",
       "Tue    200\n",
       "Wed    300\n",
       "Thu    400\n",
       "Fri    350\n",
       "Name: Weekdays Earning Per Day, dtype: int64"
      ]
     },
     "execution_count": 31,
     "metadata": {},
     "output_type": "execute_result"
    }
   ],
   "source": [
    "## Name of Data\n",
    "data = [100,200,300,400,350]\n",
    "data_set = pd.Series(data,index=['Mon','Tue','Wed','Thu','Fri'],name=\"Weekdays Earning Per Day\")\n",
    "data_set"
   ]
  },
  {
   "cell_type": "code",
   "execution_count": 32,
   "metadata": {},
   "outputs": [
    {
     "data": {
      "text/plain": [
       "0    [100, 200, 300, 400, 350]\n",
       "1      [56, 565, 415, 123, 51]\n",
       "Name: Weekdays Earning Per Day, dtype: object"
      ]
     },
     "execution_count": 32,
     "metadata": {},
     "output_type": "execute_result"
    }
   ],
   "source": [
    "## Name of Data\n",
    "data = [[100,200,300,400,350],[56,565,415,123,51]]\n",
    "data_set = pd.Series(data,name=\"Weekdays Earning Per Day\")\n",
    "data_set"
   ]
  },
  {
   "cell_type": "code",
   "execution_count": 98,
   "metadata": {},
   "outputs": [
    {
     "data": {
      "text/plain": [
       "Monday       100\n",
       "Tuesday      200\n",
       "Wednesday    300\n",
       "Thursday     400\n",
       "Friday       350\n",
       "Name: Weekdays Earning Per Day, dtype: int64"
      ]
     },
     "execution_count": 98,
     "metadata": {},
     "output_type": "execute_result"
    }
   ],
   "source": [
    "data = [100,200,300,400,350]\n",
    "data_set = pd.Series(data,index=['Mon','Tue','Wed','Thu','Fri'],name=\"Weekdays Earning Per Day\")\n",
    "data_set.index = ['Monday','Tuesday','Wednesday','Thursday','Friday']\n",
    "data_set\n"
   ]
  },
  {
   "cell_type": "markdown",
   "metadata": {},
   "source": [
    "## Create a Pandas Series to store a Canteen Data to hold values of how many sandwitches are sold each days (one week)"
   ]
  },
  {
   "cell_type": "code",
   "execution_count": 76,
   "metadata": {},
   "outputs": [
    {
     "data": {
      "text/plain": [
       "Mon    35\n",
       "Tue    20\n",
       "Wed    30\n",
       "Thu    15\n",
       "Fri    35\n",
       "Name:  Sandwitches sold in one Week Per Day, dtype: int64"
      ]
     },
     "execution_count": 76,
     "metadata": {},
     "output_type": "execute_result"
    }
   ],
   "source": [
    "sw = [35,20,30,15,35]\n",
    "data_set = pd.Series(sw,index=['Mon','Tue','Wed','Thu','Fri'],name=\" Sandwitches sold in one Week Per Day\")\n",
    "data_set"
   ]
  },
  {
   "cell_type": "code",
   "execution_count": 77,
   "metadata": {},
   "outputs": [
    {
     "name": "stdout",
     "output_type": "stream",
     "text": [
      "Mon    35\n",
      "Wed    30\n",
      "Name:  Sandwitches sold in one Week Per Day, dtype: int64\n",
      "Mon    35\n",
      "Fri    35\n",
      "Name:  Sandwitches sold in one Week Per Day, dtype: int64\n"
     ]
    }
   ],
   "source": [
    "print(data_set[[0,2]]) # for providing multiple index for selecting element in an pd series ,use array notation\n",
    "print(data_set[['Mon','Fri']])"
   ]
  },
  {
   "cell_type": "code",
   "execution_count": 78,
   "metadata": {},
   "outputs": [
    {
     "data": {
      "text/plain": [
       "Mon    35\n",
       "Wed    30\n",
       "Fri    35\n",
       "Name:  Sandwitches sold in one Week Per Day, dtype: int64"
      ]
     },
     "execution_count": 78,
     "metadata": {},
     "output_type": "execute_result"
    }
   ],
   "source": [
    "data_set[data_set>20]"
   ]
  },
  {
   "cell_type": "markdown",
   "metadata": {},
   "source": [
    "## Pandas practice with Numpy"
   ]
  },
  {
   "cell_type": "code",
   "execution_count": 84,
   "metadata": {},
   "outputs": [],
   "source": [
    "import numpy as np"
   ]
  },
  {
   "cell_type": "code",
   "execution_count": 85,
   "metadata": {},
   "outputs": [],
   "source": [
    "sale = np.array([120,180,200,190,250])\n",
    "months = np.array(['jan','feb','mar','apr','may'])\n",
    "\n",
    "df = pd.Series(sale,index=months)"
   ]
  },
  {
   "cell_type": "code",
   "execution_count": 86,
   "metadata": {},
   "outputs": [
    {
     "data": {
      "text/plain": [
       "jan    120\n",
       "feb    180\n",
       "mar    200\n",
       "apr    190\n",
       "may    250\n",
       "dtype: int32"
      ]
     },
     "execution_count": 86,
     "metadata": {},
     "output_type": "execute_result"
    }
   ],
   "source": [
    "df"
   ]
  },
  {
   "cell_type": "markdown",
   "metadata": {},
   "source": [
    "### Fetching dictionary in pandas "
   ]
  },
  {
   "cell_type": "code",
   "execution_count": 88,
   "metadata": {},
   "outputs": [
    {
     "name": "stdout",
     "output_type": "stream",
     "text": [
      "sindh          75000000\n",
      "punjab         50000000\n",
      "kpk            30000000\n",
      "balochistan    12000000\n",
      "dtype: int64\n"
     ]
    }
   ],
   "source": [
    "state = {'sindh':75000000,'punjab':50000000,'kpk':30000000,'balochistan':12000000}\n",
    "tax_state = pd.Series(state)\n",
    "print(tax_state)"
   ]
  },
  {
   "cell_type": "code",
   "execution_count": 90,
   "metadata": {},
   "outputs": [
    {
     "name": "stdout",
     "output_type": "stream",
     "text": [
      "punjab         50000000\n",
      "sindh          75000000\n",
      "kpk            30000000\n",
      "balochistan    12000000\n",
      "dtype: int64\n"
     ]
    }
   ],
   "source": [
    "state = {'sindh':75000000,'punjab':50000000,'kpk':30000000,'balochistan':12000000}\n",
    "tax_state = pd.Series(state,index=[\"punjab\",\"sindh\",\"kpk\",'balochistan'])\n",
    "print(tax_state)"
   ]
  },
  {
   "cell_type": "code",
   "execution_count": 96,
   "metadata": {},
   "outputs": [
    {
     "name": "stdout",
     "output_type": "stream",
     "text": [
      "sindh          75000000\n",
      "punjab         50000000\n",
      "kpk            30000000\n",
      "balochistan    12000000\n",
      "Name: Pakistan Tax Data, dtype: int64\n",
      "Index(['sindh', 'punjab', 'kpk', 'balochistan'], dtype='object', name='States')\n"
     ]
    }
   ],
   "source": [
    "state = {'sindh':75000000,'punjab':50000000,'kpk':30000000,'balochistan':12000000}\n",
    "tax_state = pd.Series(state)\n",
    "tax_state.name=\"Pakistan Tax Data\" # name of series\n",
    "print(tax_state)\n",
    "tax_state.index.name=\"States\"  # name of index in pandas series\n",
    "print(tax_state.index)"
   ]
  },
  {
   "cell_type": "markdown",
   "metadata": {},
   "source": [
    "### if any value is missing or null"
   ]
  },
  {
   "cell_type": "code",
   "execution_count": 91,
   "metadata": {},
   "outputs": [
    {
     "name": "stdout",
     "output_type": "stream",
     "text": [
      "punjab              50000000.0\n",
      "sindh               75000000.0\n",
      "kpk                 30000000.0\n",
      "balochistan         12000000.0\n",
      "gilgit baltistan           NaN\n",
      "dtype: float64\n"
     ]
    }
   ],
   "source": [
    "state = {'sindh':75000000,'punjab':50000000,'kpk':30000000,'balochistan':12000000}\n",
    "tax_state = pd.Series(state,index=[\"punjab\",\"sindh\",\"kpk\",'balochistan','gilgit baltistan'])\n",
    "print(tax_state)"
   ]
  },
  {
   "cell_type": "code",
   "execution_count": 93,
   "metadata": {},
   "outputs": [
    {
     "data": {
      "text/plain": [
       "punjab              False\n",
       "sindh               False\n",
       "kpk                 False\n",
       "balochistan         False\n",
       "gilgit baltistan     True\n",
       "dtype: bool"
      ]
     },
     "execution_count": 93,
     "metadata": {},
     "output_type": "execute_result"
    }
   ],
   "source": [
    "pd.isnull(tax_state) #missing value return TRUE ,and rest will return FALSE"
   ]
  },
  {
   "cell_type": "markdown",
   "metadata": {},
   "source": [
    "## --------------------------------------------"
   ]
  },
  {
   "cell_type": "markdown",
   "metadata": {},
   "source": [
    "# Data Frame"
   ]
  },
  {
   "cell_type": "code",
   "execution_count": 1,
   "metadata": {},
   "outputs": [],
   "source": [
    "import pandas as pd"
   ]
  },
  {
   "cell_type": "code",
   "execution_count": 19,
   "metadata": {},
   "outputs": [
    {
     "name": "stdout",
     "output_type": "stream",
     "text": [
      "   Apples  Oranges\n",
      "2       2       12\n",
      "4       1       11\n"
     ]
    }
   ],
   "source": [
    "apples = pd.Series([5,4,2,3,1])\n",
    "oranges = pd.Series([15,14,12,13,11])\n",
    "\n",
    "data = {\"Apples\":apples,\"Oranges\":oranges}\n",
    "fruits = pd.DataFrame(data)\n",
    "print(fruits[fruits[\"Apples\"]<3])"
   ]
  },
  {
   "cell_type": "code",
   "execution_count": 23,
   "metadata": {},
   "outputs": [
    {
     "name": "stdout",
     "output_type": "stream",
     "text": [
      "          States Years Population\n",
      "1st        Sindh  2016         30\n",
      "2nd       Punjab  2017         50\n",
      "3rd          Kpk  2018         60\n",
      "4th  Balochistan  2019         70\n"
     ]
    }
   ],
   "source": [
    "states = ['Sindh','Punjab','Kpk','Balochistan']\n",
    "years = ['2016','2017','2018','2019']\n",
    "pop = ['30','50','60','70'] #population in millions\n",
    "\n",
    "data = {\"States\":states,\"Years\":years,'Population':pop}\n",
    "data_frame = pd.DataFrame(data,index=['1st','2nd','3rd','4th'])\n",
    "print(data_frame)"
   ]
  },
  {
   "cell_type": "code",
   "execution_count": null,
   "metadata": {},
   "outputs": [],
   "source": []
  }
 ],
 "metadata": {
  "kernelspec": {
   "display_name": "Python 3",
   "language": "python",
   "name": "python3"
  },
  "language_info": {
   "codemirror_mode": {
    "name": "ipython",
    "version": 3
   },
   "file_extension": ".py",
   "mimetype": "text/x-python",
   "name": "python",
   "nbconvert_exporter": "python",
   "pygments_lexer": "ipython3",
   "version": "3.7.3"
  }
 },
 "nbformat": 4,
 "nbformat_minor": 2
}
