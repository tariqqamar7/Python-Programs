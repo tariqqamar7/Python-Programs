{
 "cells": [
  {
   "cell_type": "markdown",
   "metadata": {},
   "source": [
    "# Python Programs "
   ]
  },
  {
   "cell_type": "markdown",
   "metadata": {},
   "source": [
    "## Question 01: Calculate Area of a Circle"
   ]
  },
  {
   "cell_type": "markdown",
   "metadata": {},
   "source": [
    "Write a Python program which accepts the radius of a circle from the user and compute the area."
   ]
  },
  {
   "cell_type": "code",
   "execution_count": 2,
   "metadata": {},
   "outputs": [
    {
     "name": "stdout",
     "output_type": "stream",
     "text": [
      "Enter radius of a cirlce to compute the area: 0.5\n",
      "Area of a cirlce with 0.5 is 0.7868975\n"
     ]
    }
   ],
   "source": [
    "radius = float(input(\"Enter radius of a cirlce to compute the area: \"))\n",
    "\n",
    "pi = 3.14759\n",
    "\n",
    "area = pi * (radius * radius)\n",
    "\n",
    "print(\"Area of a cirlce with {} is {}\".format(radius,area))"
   ]
  },
  {
   "cell_type": "markdown",
   "metadata": {},
   "source": [
    "## Question 02: Check Number either positive, negative or zero"
   ]
  },
  {
   "cell_type": "markdown",
   "metadata": {},
   "source": [
    "Write a Python program to check if a number is positive, negative or zero"
   ]
  },
  {
   "cell_type": "code",
   "execution_count": 6,
   "metadata": {},
   "outputs": [
    {
     "name": "stdout",
     "output_type": "stream",
     "text": [
      "Enter any number to check whether it is Positive , Negative or Zero : -1\n",
      "-1 is Negative Number.\n"
     ]
    }
   ],
   "source": [
    "number = int(input(\"Enter any number to check whether it is Positive , Negative or Zero : \"))\n",
    "\n",
    "if number > 0:\n",
    "    print(\"{} is Positive Number.\".format(number))\n",
    "elif number < 0:\n",
    "    print(\"{} is Negative Number.\".format(number))\n",
    "else:\n",
    "    print(\"Zero Entered\")"
   ]
  },
  {
   "cell_type": "markdown",
   "metadata": {},
   "source": [
    "## Question 03: Divisibility Check of two numbers"
   ]
  },
  {
   "cell_type": "markdown",
   "metadata": {},
   "source": [
    "Write a Python program to check whether a number is completely divisible by another number. Accept two integer values form the user"
   ]
  },
  {
   "cell_type": "code",
   "execution_count": null,
   "metadata": {},
   "outputs": [],
   "source": [
    "numerator = int(input(\"Enter Numerator: \"))\n",
    "denominator = int(input(\"Enter Denominator: \"))\n",
    "\n",
    "if numerator % denominator == 0:\n",
    "    print(\"Number {} is completely divisible by {}.\".format(numerator,denominator))\n",
    "else:\n",
    "    print(\"Number {} is not completely divisible by {}.\".format(numerator,denominator))"
   ]
  },
  {
   "cell_type": "markdown",
   "metadata": {},
   "source": [
    "## Question 04: Days Calculator"
   ]
  },
  {
   "cell_type": "markdown",
   "metadata": {},
   "source": [
    "Write a Python Program to Calculate Number of Days between Two Dates."
   ]
  },
  {
   "cell_type": "code",
   "execution_count": 23,
   "metadata": {},
   "outputs": [
    {
     "name": "stdout",
     "output_type": "stream",
     "text": [
      "Enter a date in (dd/mm/yy) format: 12/12/2018\n",
      "Enter a date in (dd/mm/yy) format: 16/12/2018\n",
      "There are 4 days in between 12/12/2018 and 16/12/2018\n"
     ]
    }
   ],
   "source": [
    "from datetime import datetime\n",
    "d_format = \"%d/%m/%Y\"\n",
    "start_date = input(\"Enter a date in (dd/mm/yy) format: \")\n",
    "end_date = input(\"Enter a date in (dd/mm/yy) format: \")\n",
    "s = start_date\n",
    "e = end_date\n",
    "start_date = datetime.strptime(start_date,d_format)\n",
    "end_date = datetime.strptime(end_date,d_format)\n",
    "number_of_days = end_date - start_date\n",
    "print(\"There are {} days in between {} and {}\".format(number_of_days.days,s,e))"
   ]
  },
  {
   "cell_type": "markdown",
   "metadata": {},
   "source": [
    "## Question 05: Calculate Volume of a sphere"
   ]
  },
  {
   "cell_type": "markdown",
   "metadata": {},
   "source": [
    "Write a Python program to get the volume of a sphere, please take the radius as input from user\n",
    "- volume: V =4/3πr^3 #Formula"
   ]
  },
  {
   "cell_type": "code",
   "execution_count": 32,
   "metadata": {},
   "outputs": [
    {
     "name": "stdout",
     "output_type": "stream",
     "text": [
      "Enter Radius  of Sphere: 1\n",
      "Volume of the Sphere with Radius 1 is 4.188790204786667\n"
     ]
    }
   ],
   "source": [
    "radius = int(input(\"Enter Radius  of Sphere: \"))\n",
    "\n",
    "pi = 3.14159265359 #standard value\n",
    "v = (4/3)*pi*radius**3\n",
    "print(\"Volume of the Sphere with Radius {} is {}\".format(radius,v))"
   ]
  },
  {
   "cell_type": "markdown",
   "metadata": {},
   "source": [
    "## Question 06: Copy string n times"
   ]
  },
  {
   "cell_type": "markdown",
   "metadata": {},
   "source": [
    "Write a Python program to get a string which is n (non-negative integer) copies of a given string. "
   ]
  },
  {
   "cell_type": "code",
   "execution_count": 12,
   "metadata": {},
   "outputs": [
    {
     "name": "stdout",
     "output_type": "stream",
     "text": [
      "Enter String : Hi\n",
      "How many copies of Strings you need : 4\n",
      "4 Copies of Hi are\n",
      "HiHiHiHi"
     ]
    }
   ],
   "source": [
    "text = input(\"Enter String : \")\n",
    "n = int(input(\"How many copies of Strings you need : \"))\n",
    "if n > 0:\n",
    "    print(\"{} Copies of {} are\".format(n,text))\n",
    "    for i in range(0,n):\n",
    "        print(text,end=\"\")\n",
    "else:\n",
    "    print(\"You Entered Non-negative integer\")"
   ]
  },
  {
   "cell_type": "markdown",
   "metadata": {},
   "source": [
    "## Question 07: Check if number is Even or Odd"
   ]
  },
  {
   "cell_type": "markdown",
   "metadata": {},
   "source": [
    "Write a Python program to find whether a given number (accept from the user) is even or odd, print out an appropriate message to the user"
   ]
  },
  {
   "cell_type": "code",
   "execution_count": 18,
   "metadata": {},
   "outputs": [
    {
     "name": "stdout",
     "output_type": "stream",
     "text": [
      "Enter Any Number : 9\n",
      "9 is Odd\n"
     ]
    }
   ],
   "source": [
    "number = int(input(\"Enter Any Number : \"))\n",
    "\n",
    "if number % 2 == 0:\n",
    "    print(\"{} is Even.\".format(number))\n",
    "else:\n",
    "    print(\"{} is Odd\".format(number))"
   ]
  },
  {
   "cell_type": "markdown",
   "metadata": {},
   "source": [
    "## Question 08: Vowel Tester"
   ]
  },
  {
   "cell_type": "markdown",
   "metadata": {},
   "source": [
    "Write a Python program to test whether a passed letter is a vowel or not."
   ]
  },
  {
   "cell_type": "code",
   "execution_count": 8,
   "metadata": {},
   "outputs": [
    {
     "name": "stdout",
     "output_type": "stream",
     "text": [
      "Enter a character : N\n",
      "Letter N is not a Vowel.\n"
     ]
    }
   ],
   "source": [
    "vowel = ['a','e','i','o','u']\n",
    "letter = input(\"Enter a character : \")\n",
    "search = letter.lower()\n",
    "for i in vowel:\n",
    "    if i == search:\n",
    "        print(\"Letter {} a Vowel.\".format(letter))\n",
    "        break\n",
    "else:\n",
    "    print(\"Letter {} is not a Vowel.\".format(letter))"
   ]
  },
  {
   "cell_type": "markdown",
   "metadata": {},
   "source": [
    "## Question 09: Triangle area"
   ]
  },
  {
   "cell_type": "markdown",
   "metadata": {},
   "source": [
    "Write a Python program that will accept the base and height of a triangle and compute the area\n",
    "- A = (B * H)/2"
   ]
  },
  {
   "cell_type": "code",
   "execution_count": 11,
   "metadata": {},
   "outputs": [
    {
     "name": "stdout",
     "output_type": "stream",
     "text": [
      "Enter magnitude of Triangle Base: 4\n",
      "Enter magnitude of Triangle Height: 4\n",
      "Area of a Triangle with Height 4 and Base 4 is 8.0\n"
     ]
    }
   ],
   "source": [
    "base = int(input(\"Enter magnitude of Triangle Base: \"))\n",
    "height = int(input(\"Enter magnitude of Triangle Height: \"))\n",
    "\n",
    "area = (base*height)/2\n",
    "\n",
    "print(\"Area of a Triangle with Height {} and Base {} is {}\".format(height,base,area))"
   ]
  },
  {
   "cell_type": "markdown",
   "metadata": {},
   "source": [
    "## Question 10: Calculate interest"
   ]
  },
  {
   "cell_type": "markdown",
   "metadata": {},
   "source": [
    "Write a Python program to compute the future value of a specified principal amount, rate of interest, and a number of years\n",
    "\n",
    "- FV = PM( 1 + rate )^years"
   ]
  },
  {
   "cell_type": "code",
   "execution_count": 19,
   "metadata": {},
   "outputs": [
    {
     "name": "stdout",
     "output_type": "stream",
     "text": [
      "Please enter principal amount : 10000\n",
      "Please enter rate of interest in % : 0.1\n",
      "Enter number of years for investment : 5\n",
      "After 5 years your principal amount 10000 over an interest rate of 0.1 % will be 10050.100100050004\n"
     ]
    }
   ],
   "source": [
    "amount = int(input(\"Please enter principal amount : \"))\n",
    "rate = float(input(\"Please enter rate of interest in % : \"))\n",
    "years = int(input(\"Enter number of years for investment : \"))\n",
    "step = 1 + (0.01*rate)\n",
    "fv = amount * pow(step,years)\n",
    "print(\"After {} years your principal amount {} over an interest rate of {} % will be {}\".format(years,amount,rate,fv))"
   ]
  },
  {
   "cell_type": "markdown",
   "metadata": {},
   "source": [
    "## Question 11: Euclidean distance"
   ]
  },
  {
   "cell_type": "markdown",
   "metadata": {},
   "source": [
    "Write a Python program to compute the distance between the points (x1, y1) and (x2, y2)."
   ]
  },
  {
   "cell_type": "code",
   "execution_count": 23,
   "metadata": {},
   "outputs": [
    {
     "name": "stdout",
     "output_type": "stream",
     "text": [
      "Enter Co-ordinate for x1: 2\n",
      "Enter Co-ordinate for x2: 4\n",
      "Enter Co-ordinate for y1: 4\n",
      "Enter Co-ordinate for y2: 4\n",
      "Distance between points (2, 4) and (4, 4) is 2.0\n"
     ]
    }
   ],
   "source": [
    "x1 = int(input(\"Enter Co-ordinate for x1: \"))\n",
    "x2 = int(input(\"Enter Co-ordinate for x2: \"))\n",
    "y1 = int(input(\"Enter Co-ordinate for y1: \"))\n",
    "y2 = int(input(\"Enter Co-ordinate for y2: \"))\n",
    "\n",
    "point1 = pow(x1 - x2,2)\n",
    "point2 = pow(y1 - y2,2)\n",
    "distance = math.sqrt(point1 - point2)\n",
    "print(\"Distance between points ({}, {}) and ({}, {}) is {}\".format(x1,y1,x2,y2,distance))"
   ]
  },
  {
   "cell_type": "markdown",
   "metadata": {},
   "source": [
    "## Question 12: Feet to Centimeter Converter"
   ]
  },
  {
   "cell_type": "markdown",
   "metadata": {},
   "source": [
    "Write a Python program to convert height in feet to centimetres."
   ]
  },
  {
   "cell_type": "code",
   "execution_count": 25,
   "metadata": {},
   "outputs": [
    {
     "name": "stdout",
     "output_type": "stream",
     "text": [
      "Enter Height in Feet: 5\n",
      "There are 152.4 Cm in 5 ft\n"
     ]
    }
   ],
   "source": [
    "height = int(input(\"Enter Height in Feet: \"))\n",
    "feet = 30.48 #1 feet = 30.48 cm\n",
    "cm = height * feet1\n",
    "print(\"There are {} Cm in {} ft\".format(cm,height))"
   ]
  },
  {
   "cell_type": "markdown",
   "metadata": {},
   "source": [
    "## Question 13: BMI Calculator"
   ]
  },
  {
   "cell_type": "markdown",
   "metadata": {},
   "source": [
    "Write a Python program to calculate body mass index"
   ]
  },
  {
   "cell_type": "code",
   "execution_count": 34,
   "metadata": {},
   "outputs": [
    {
     "name": "stdout",
     "output_type": "stream",
     "text": [
      "Enter Height in Cm : 180\n",
      "Enter Weight in Kg : 75\n",
      "Your BMI is 23.148148148148145\n"
     ]
    }
   ],
   "source": [
    "height = float(input(\"Enter Height in Cm : \"))/100\n",
    "weight = float(input(\"Enter Weight in Kg : \"))\n",
    "h = pow(height,2)\n",
    "bmi = weight / h\n",
    "print(\"Your BMI is\",bmi)"
   ]
  },
  {
   "cell_type": "code",
   "execution_count": null,
   "metadata": {},
   "outputs": [],
   "source": []
  }
 ],
 "metadata": {
  "kernelspec": {
   "display_name": "Python 3",
   "language": "python",
   "name": "python3"
  },
  "language_info": {
   "codemirror_mode": {
    "name": "ipython",
    "version": 3
   },
   "file_extension": ".py",
   "mimetype": "text/x-python",
   "name": "python",
   "nbconvert_exporter": "python",
   "pygments_lexer": "ipython3",
   "version": "3.7.3"
  }
 },
 "nbformat": 4,
 "nbformat_minor": 2
}
